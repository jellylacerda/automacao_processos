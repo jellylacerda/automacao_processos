{
 "cells": [
  {
   "cell_type": "markdown",
   "metadata": {},
   "source": [
    "AUTOMAÇÃO PYAUTOGUI"
   ]
  },
  {
   "cell_type": "code",
   "execution_count": 25,
   "metadata": {},
   "outputs": [],
   "source": [
    "import pyautogui\n",
    "import time\n",
    "#pyautogui.alert(\"O codigo vai começar!\")\n",
    "pyautogui.PAUSE = 0.5\n",
    "\n",
    "#abrir google drive\n",
    "pyautogui.press('winleft')\n",
    "pyautogui.write('chrome')\n",
    "pyautogui.press('enter')\n",
    "time.sleep(1)\n",
    "pyautogui.write('https://drive.google.com/drive/u/0/my-drive')\n",
    "pyautogui.press('enter')\n",
    "\n",
    "#entrar na area de trabalho \n",
    "pyautogui.hotkey('winleft', 'd') #hotkey consegue abrir com atalho\n",
    "pyautogui.moveTo(1340, 17)\n",
    "pyautogui.mouseDown()\n",
    "pyautogui.moveTo(751, 615)\n",
    "pyautogui.hotkey('alt', 'tab')\n",
    "pyautogui.mouseUp()"
   ]
  },
  {
   "cell_type": "code",
   "execution_count": 22,
   "metadata": {},
   "outputs": [
    {
     "data": {
      "text/plain": [
       "Point(x=751, y=615)"
      ]
     },
     "execution_count": 22,
     "metadata": {},
     "output_type": "execute_result"
    }
   ],
   "source": [
    "pyautogui.position() #IDENTIFICA POSIÇÃO DO MOUSE EM COORDENADAS XY NAQUELE MOMENTO "
   ]
  },
  {
   "cell_type": "markdown",
   "metadata": {},
   "source": [
    "AUTOMAÇAO SELENIUM "
   ]
  }
 ],
 "metadata": {
  "kernelspec": {
   "display_name": "Python 3",
   "language": "python",
   "name": "python3"
  },
  "language_info": {
   "codemirror_mode": {
    "name": "ipython",
    "version": 3
   },
   "file_extension": ".py",
   "mimetype": "text/x-python",
   "name": "python",
   "nbconvert_exporter": "python",
   "pygments_lexer": "ipython3",
   "version": "3.11.6"
  }
 },
 "nbformat": 4,
 "nbformat_minor": 2
}
