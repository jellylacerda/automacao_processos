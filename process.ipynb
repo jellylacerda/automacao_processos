{
 "cells": [
  {
   "cell_type": "markdown",
   "metadata": {},
   "source": [
    "If you have any questions, please contact me via the links below:\n",
    "\n",
    "https://github.com/jellylacerda\n",
    "\n",
    "https://www.linkedin.com/in/jellylacerda\n",
    "\n",
    "This code was created by the intern with the contact above, to help people who have manual processes that could be replaced by automation.\n",
    "It's very simple, but it was extremely important for learning"
   ]
  },
  {
   "cell_type": "code",
   "execution_count": 2,
   "metadata": {},
   "outputs": [],
   "source": [
    "import pandas as pd \n",
    "import numpy as np\n",
    "from datetime import datetime, timedelta \n",
    "from docxtpl import DocxTemplate, InlineImage\n",
    "from docx.shared import Inches\n",
    "from docx import Document"
   ]
  },
  {
   "cell_type": "code",
   "execution_count": null,
   "metadata": {},
   "outputs": [],
   "source": [
    "movies_metadata = pd.read_csv(\"movies_metadata.csv\")\n",
    "display(movies_metadata.tail())"
   ]
  },
  {
   "cell_type": "code",
   "execution_count": null,
   "metadata": {},
   "outputs": [],
   "source": [
    "movies = movies_metadata[[\"id\", \"original_language\", \"original_title\", \"overview\", \"release_date\", \"status\"]][:10000]"
   ]
  },
  {
   "cell_type": "code",
   "execution_count": null,
   "metadata": {},
   "outputs": [],
   "source": [
    "display(movies)"
   ]
  },
  {
   "cell_type": "code",
   "execution_count": null,
   "metadata": {},
   "outputs": [],
   "source": [
    "movies = pd.merge(movies, movies_metadata[[\"id\",\"runtime\",\"status\"]], on='id', how='left')\n"
   ]
  },
  {
   "cell_type": "code",
   "execution_count": null,
   "metadata": {},
   "outputs": [],
   "source": [
    "movies = movies.drop('runtime_y', axis=1)"
   ]
  },
  {
   "cell_type": "code",
   "execution_count": 3,
   "metadata": {},
   "outputs": [],
   "source": [
    "mes_atual = datetime.now().strftime(\"%B\")\n",
    "mes_anterior = (datetime.now() - timedelta(days=30)).strftime(\"%B\")\n"
   ]
  },
  {
   "cell_type": "code",
   "execution_count": null,
   "metadata": {},
   "outputs": [],
   "source": [
    "#agrupar por idioma \n",
    "grupo_idioma = movies.groupby('original_language')"
   ]
  },
  {
   "cell_type": "code",
   "execution_count": null,
   "metadata": {},
   "outputs": [],
   "source": [
    "#criando um df menor para teste do cod\n",
    "teste_small = movies[['original_language', 'original_title']][:100]"
   ]
  },
  {
   "cell_type": "code",
   "execution_count": null,
   "metadata": {},
   "outputs": [],
   "source": [
    "grupo_teste = teste_small.groupby('original_language')"
   ]
  },
  {
   "cell_type": "code",
   "execution_count": null,
   "metadata": {},
   "outputs": [],
   "source": [
    "display(teste_small)"
   ]
  },
  {
   "cell_type": "code",
   "execution_count": null,
   "metadata": {},
   "outputs": [],
   "source": [
    "\n",
    "\n",
    "for idioma, grupo in grupo_idioma:\n",
    "    grupados_excel = f'movies_{idioma}.xlsx'\n",
    "    grupo.to_excel(grupados_excel, sheet_name = mes_atual, index=False)\n",
    "    \n",
    "\n",
    "\n",
    "for idioma, grupo in grupo_idioma: \n",
    "    grupados_word = f'movies_{idioma}.docx'\n",
    "    doc = Document()  # Cria um novo documento do Word para cada grupo\n",
    "    tabela = doc.add_table(rows=1, cols=len(grupo.columns))\n",
    "    hdr_cells = tabela.rows[0].cells\n",
    "    for i, coluna in enumerate(grupo.columns):\n",
    "        hdr_cells[i].text = str(coluna)\n",
    "\n",
    "    # Adicionar os dados do grupo à tabela do Word\n",
    "    for indice, linha in grupo.iterrows():\n",
    "        new_row = tabela.add_row().cells\n",
    "        for i, valor in enumerate(linha):\n",
    "            new_row[i].text = str(valor)\n",
    "\n",
    "    doc.save(grupados_word)\n",
    "\n"
   ]
  },
  {
   "cell_type": "code",
   "execution_count": null,
   "metadata": {},
   "outputs": [],
   "source": [
    "#formar arquivo excel de cada idioma\n",
    "for idioma, grupo in grupo_idioma:\n",
    "    agrupados_excel = f'movies_{idioma}.xlsx'\n",
    "    grupo.to_excel(agrupados_excel, sheet_name = mes_atual, index=False)\n"
   ]
  },
  {
   "cell_type": "code",
   "execution_count": null,
   "metadata": {},
   "outputs": [],
   "source": [
    "from docx import Document\n",
    "from docx.shared import Inches\n",
    "import pandas as pd\n",
    "\n",
    "# Agrupar os dados por idioma\n",
    "\n",
    "for idioma, grupo in grupo_idioma:\n",
    "    # Criar um novo documento Word\n",
    "    doc = Document()\n",
    "\n",
    "    # Adicionar um cabeçalho\n",
    "    doc.add_heading(f'Movies - {idioma}', level=1)\n",
    "\n",
    "    # Converter o grupo em um dicionário para melhorar o desempenho\n",
    "    data_dict = grupo.to_dict(orient='records')\n",
    "\n",
    "    # Adicionar uma tabela com os dados do grupo\n",
    "    table = doc.add_table(rows=1, cols=len(grupo.columns))\n",
    "    table.style = 'Table Grid'\n",
    "\n",
    "    # Adicionar cabeçalhos da tabela\n",
    "    hdr_cells = table.rows[0].cells\n",
    "    for i, column_name in enumerate(grupo.columns):\n",
    "        hdr_cells[i].text = column_name\n",
    "\n",
    "    # Adicionar os dados à tabela\n",
    "    for row_data in data_dict:\n",
    "        row_cells = table.add_row().cells\n",
    "        for i, value in enumerate(row_data.values()):\n",
    "            row_cells[i].text = str(value)\n",
    "\n",
    "    # Salvar o documento com um nome específico\n",
    "    doc.save(f'movies_{idioma}.docx')\n"
   ]
  }
 ],
 "metadata": {
  "kernelspec": {
   "display_name": "Python 3",
   "language": "python",
   "name": "python3"
  },
  "language_info": {
   "codemirror_mode": {
    "name": "ipython",
    "version": 3
   },
   "file_extension": ".py",
   "mimetype": "text/x-python",
   "name": "python",
   "nbconvert_exporter": "python",
   "pygments_lexer": "ipython3",
   "version": "3.11.6"
  }
 },
 "nbformat": 4,
 "nbformat_minor": 2
}
