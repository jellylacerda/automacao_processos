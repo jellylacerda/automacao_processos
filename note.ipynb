{
 "cells": [
  {
   "cell_type": "code",
   "execution_count": null,
   "metadata": {},
   "outputs": [],
   "source": [
    "#all imports\n",
    "\n",
    "import pandas as pd \n",
    "import numpy as np\n",
    "from datetime import datetime, timedelta \n",
    "from docxtpl import DocxTemplate, InlineImage\n",
    "from docx.shared import Inches\n",
    "from docx import Document\n"
   ]
  },
  {
   "cell_type": "code",
   "execution_count": null,
   "metadata": {},
   "outputs": [],
   "source": [
    "movies_metadata = pd.read_csv(\"movies_metadata.csv\")\n",
    "movies = movies_metadata[[\"id\", \"original_language\", \"original_title\", \"overview\", \"release_date\", \"status\"]][:10000]"
   ]
  },
  {
   "cell_type": "code",
   "execution_count": null,
   "metadata": {},
   "outputs": [],
   "source": [
    "small_0 = movies[[\"id\", \"original_language\", \"original_title\"]][:100]"
   ]
  },
  {
   "cell_type": "code",
   "execution_count": null,
   "metadata": {},
   "outputs": [],
   "source": [
    "mes_anterior = (datetime.now() - timedelta(days=30)).strftime(\"%B\")"
   ]
  },
  {
   "cell_type": "code",
   "execution_count": null,
   "metadata": {},
   "outputs": [],
   "source": [
    "#agrupando por idioma\n",
    "teste_small = small.groupby('original_language')"
   ]
  },
  {
   "cell_type": "code",
   "execution_count": null,
   "metadata": {},
   "outputs": [],
   "source": [
    "#gerando arquivo excel para cada idioma\n",
    "for idioma, grupo in teste_small:\n",
    "    agrupados_excel = f'small_{idioma}.xlsx'\n",
    "    grupo.to_excel(agrupados_excel, sheet_name = mes_anterior, index=False)"
   ]
  },
  {
   "cell_type": "code",
   "execution_count": null,
   "metadata": {},
   "outputs": [],
   "source": [
    "display(small_0)"
   ]
  },
  {
   "cell_type": "code",
   "execution_count": null,
   "metadata": {},
   "outputs": [],
   "source": [
    "from docx import Document\n",
    "from docx.enum.text import WD_PARAGRAPH_ALIGNMENT\n",
    "import pandas as pd\n",
    "from docxtpl import DocxTemplate, RichText\n",
    "from docx.shared import Pt\n",
    "from docx.shared import Inches\n",
    "from docx.oxml.ns import nsdecls\n",
    "from docx.oxml import parse_xml\n",
    "from docx.oxml.shared import OxmlElement\n",
    "import hyperlink\n",
    "import urllib.request\n",
    "from docx.oxml.ns import nsdecls\n",
    "from docx.shared import RGBColor\n",
    "\n",
    "\n",
    "grupos_por_idioma = small_0.groupby('original_language')\n",
    "\n",
    "for idioma, grupo in grupos_por_idioma: \n",
    "\n",
    "# Criar um novo documento do Word\n",
    "    document = Document('templ_teste.docx')\n",
    "\n",
    "    paragraph = document.add_paragraph('DEPENDENCIA')\n",
    "    paragraph.alignment = WD_PARAGRAPH_ALIGNMENT.CENTER\n",
    "\n",
    "    # Adicionar uma tabela ao documento\n",
    "    table = document.add_table(rows=1, cols=len(small_0.columns))\n",
    "\n",
    "    # Adicionando nome das colunas \n",
    "    hdr_cells = table.rows[0].cells\n",
    "    hdr_cells[0].text = 'Código'\n",
    "    hdr_cells[1].text = 'Idioma'\n",
    "    hdr_cells[2].text = 'Título'\n",
    "    #for i, column_name in enumerate(small_0.columns): adicionando o nome das colunas iguais as originais(do dataframe)\n",
    "    #    hdr_cells[i].text = column_name\n",
    "\n",
    "    # Preencher a tabela com os valores do DataFrame\n",
    "    for a, row in small_0.iterrows():\n",
    "        row_cells = table.add_row().cells\n",
    "        for i, value in enumerate(row):\n",
    "            row_cells[i].text = str(value)\n",
    "\n",
    "    \n",
    "\n",
    "    doc = DocxTemplate('final.docx')\n",
    "    rt = RichText('You can add an hyperlink, here to ')\n",
    "    rt.add('google',url_id=doc.build_url_id('http://google.com'))\n",
    "    doc.render()\n",
    "    \n",
    "   \n",
    "    # Salvar o documento\n",
    "    #document.save('tabel.docx')\n",
    "    doc.save(f'SMALL_{idioma}.docx')\n"
   ]
  },
  {
   "cell_type": "code",
   "execution_count": null,
   "metadata": {},
   "outputs": [],
   "source": [
    "from docx import Document\n",
    "from docx.enum.text import WD_PARAGRAPH_ALIGNMENT\n",
    "from docx.shared import Pt\n",
    "from docx.oxml.ns import nsdecls\n",
    "from docx.oxml.shared import OxmlElement\n",
    "from docxtpl import DocxTemplate, RichText\n",
    "\n",
    "grupos_por_idioma = small_0.groupby('original_language')\n",
    "\n",
    "for idioma, grupo in grupos_por_idioma:\n",
    "    # Criar um novo documento do Word\n",
    "    document = Document('templ_teste.docx')\n",
    "\n",
    "    paragraph = document.add_paragraph('DEPENDENCIA')\n",
    "    paragraph.alignment = WD_PARAGRAPH_ALIGNMENT.CENTER\n",
    "\n",
    "    # Adicionar uma tabela ao documento\n",
    "    table = document.add_table(rows=1, cols=len(small_0.columns))\n",
    "\n",
    "    # Adicionando nome das colunas \n",
    "    hdr_cells = table.rows[0].cells\n",
    "    hdr_cells[0].text = 'Código'\n",
    "    hdr_cells[1].text = 'Idioma'\n",
    "    hdr_cells[2].text = 'Título'\n",
    "\n",
    "    # Preencher a tabela com os valores do DataFrame\n",
    "    for _, row in grupo.iterrows():\n",
    "        row_cells = table.add_row().cells\n",
    "        for i, value in enumerate(row):\n",
    "            row_cells[i].text = str(value)\n",
    "\n",
    "    # Salvar o documento antes de adicionar o hyperlink\n",
    "    document.save('final.docx')\n",
    "\n",
    "    # Abrir o documento com o DocxTemplate\n",
    "    doc = DocxTemplate('final.docx')\n",
    "\n",
    "    # Adicionar o hyperlink ao RichText\n",
    "    rt = RichText('You can add a hyperlink here to ')\n",
    "    rt.add('Google', url_id=doc.build_url_id('http://google.com'))\n",
    "\n",
    "    # Adicionar o RichText ao contexto do modelo\n",
    "    context = {'my_richtext': rt}\n",
    "\n",
    "    # Renderizar o modelo com o contexto\n",
    "    doc.render(context)\n",
    "\n",
    "    # Salvar o documento final com o hyperlink\n",
    "    doc.save(f'SMALL_{idioma}.docx')\n"
   ]
  },
  {
   "cell_type": "code",
   "execution_count": null,
   "metadata": {},
   "outputs": [],
   "source": [
    "from docx import Document\n",
    "from docxtpl import DocxTemplate\n",
    "\n",
    "# Carregar um documento do Word existente (template)\n",
    "template = DocxTemplate(\"templ_teste.docx\")\n",
    "\n",
    "# Dados a serem preenchidos no modelo\n",
    "context = {'nome': 'João', 'idade': 30, 'profissao': 'Engenheiro'}\n",
    "\n",
    "# Renderizar o modelo com os dados\n",
    "template.render(context)\n",
    "\n",
    "# Salvar o documento resultante\n",
    "template.save(\"documento_final.docx\")\n",
    "\n",
    "# Abra o documento final com docx para fazer mais modificações se necessário\n",
    "doc = Document(\"documento_final.docx\")\n",
    "\n",
    "# Adicionar mais conteúdo, modificar, etc.\n",
    "doc.add_paragraph(\"Este é um parágrafo adicionado após a renderização do modelo.\")\n",
    "\n",
    "# Salvar o documento com as modificações\n",
    "doc.save(\"documento_final_modificado.docx\")\n"
   ]
  }
 ],
 "metadata": {
  "kernelspec": {
   "display_name": "Python 3",
   "language": "python",
   "name": "python3"
  },
  "language_info": {
   "codemirror_mode": {
    "name": "ipython",
    "version": 3
   },
   "file_extension": ".py",
   "mimetype": "text/x-python",
   "name": "python",
   "nbconvert_exporter": "python",
   "pygments_lexer": "ipython3",
   "version": "3.11.6"
  }
 },
 "nbformat": 4,
 "nbformat_minor": 2
}
