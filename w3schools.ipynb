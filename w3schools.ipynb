{
 "cells": [
  {
   "cell_type": "markdown",
   "metadata": {},
   "source": [
    "O QUE É PANDAS?"
   ]
  },
  {
   "cell_type": "markdown",
   "metadata": {},
   "source": [
    "Pandas é uma biblioteca Python usada para trabalhar com conjuntos de dados.\n",
    "\n",
    "Possui funções para analisar, limpar, explorar e manipular dados.\n",
    "\n",
    "O nome \"Pandas\" faz referência a \"Panel Data\" e \"Python Data Analysis\" e foi criado por Wes McKinney em 2008.\n",
    "\n"
   ]
  },
  {
   "cell_type": "code",
   "execution_count": 1,
   "metadata": {},
   "outputs": [],
   "source": [
    "import pandas as pd \n",
    "from openpyxl import load_workbook\n",
    "from docx import Document\n",
    "from datetime import datetime"
   ]
  },
  {
   "cell_type": "code",
   "execution_count": null,
   "metadata": {},
   "outputs": [],
   "source": [
    "mydataset = {\n",
    "    'cars': [\"BMW\", 'Volvo', 'Ford'],\n",
    "    'passings': [3,2,1]\n",
    "}\n",
    "\n",
    "myvar = pd.DataFrame(mydataset) #criando tabela\n",
    "\n",
    "print(myvar)"
   ]
  },
  {
   "cell_type": "code",
   "execution_count": null,
   "metadata": {},
   "outputs": [],
   "source": [
    "display(myvar)"
   ]
  },
  {
   "cell_type": "code",
   "execution_count": 2,
   "metadata": {},
   "outputs": [
    {
     "name": "stderr",
     "output_type": "stream",
     "text": [
      "C:\\Users\\Jelly\\AppData\\Local\\Temp\\ipykernel_13644\\2321092756.py:1: DtypeWarning: Columns (10) have mixed types. Specify dtype option on import or set low_memory=False.\n",
      "  movies = pd.read_csv(\"movies_metadata.csv\")\n"
     ]
    }
   ],
   "source": [
    "movies = pd.read_csv(\"movies_metadata.csv\")"
   ]
  },
  {
   "cell_type": "code",
   "execution_count": 3,
   "metadata": {},
   "outputs": [],
   "source": [
    "#display(movies_metadata) (mostra - parecido com print)\n",
    "#display(movies_metadata.head(10)) #mostrar as 10 primeiras linhas\n",
    "#print(movies_metadata.shape) #verifica quantas linhas e colunas tem\n",
    "#print(movies_metadata.info()) #infomações sobre tipo de dados, qntd nulo e nome das colunas \n",
    "\n",
    "#display(movies_metadata)\n",
    "\n",
    "#criar uma tabela FILME com partes dessa outra\n",
    "\n",
    "filme = movies[['id', 'original_language', 'original_title', 'release_date']]\n",
    "#display(filme)"
   ]
  },
  {
   "cell_type": "code",
   "execution_count": null,
   "metadata": {},
   "outputs": [],
   "source": [
    "#criando excel com o nome filme\n",
    "filme.to_excel('filmes.xlsx', sheet_name='Planilha1', index=False)"
   ]
  },
  {
   "cell_type": "code",
   "execution_count": 4,
   "metadata": {},
   "outputs": [],
   "source": [
    "mes_atual = datetime.now().strftime(\"%B\")  # \"%B\" retorna o nome completo do mês"
   ]
  },
  {
   "cell_type": "code",
   "execution_count": 5,
   "metadata": {},
   "outputs": [],
   "source": [
    "#agrupando por idioma \n",
    "grupo_idioma = filme.groupby('original_language')\n",
    "\n",
    "for idioma, grupo in grupo_idioma:\n",
    "    agrupados = f'filme{idioma}.xlsx'\n",
    "    grupo.to_excel(agrupados, sheet_name= mes_atual, index=False)"
   ]
  },
  {
   "cell_type": "code",
   "execution_count": null,
   "metadata": {},
   "outputs": [],
   "source": [
    "0-6 5reatransformar em doc.x tabulado \n",
    "workbook = load_workbook('filmeda.xlsx')\n",
    "sheet = workbook.active\n",
    "doc = Document()\n",
    "table = doc.add_table(rows=1, cols=sheet.max_column)\n",
    "hdr_cells = table.rows[0].cells\n",
    "for index, cell in enumerate(hdr_cells):\n",
    "    cell.text = sheet.cell(row=1, column=index+1).value\n",
    "for row in sheet.iter_rows(min_row=2, values_only=True):\n",
    "    row_cells = table.add_row().cells\n",
    "    for index, value in enumerate(row):\n",
    "        row_cells[index].text = str(value)\n",
    "\n",
    "[doc.save('dados_do_excel_em_word.docx')"
   ]
  },
  {
   "cell_type": "code",
   "execution_count": null,
   "metadata": {},
   "outputs": [],
   "source": [
    "#transformar em doc em um arquivo existente ]import pandas as pd\n",
    "from docx import Document\n",
    "\n",
    "# Carregar os dados do Excel para um DataFrame do pandas\n",
    "arquivo_excel = 'filmebs.xlsx'\n",
    "dados_excel = pd.read_excel(arquivo_excel)\n",
    "\n",
    "# Abre o arquivo do Word existente\n",
    "arquivo_word = 'exemplo.docx'\n",
    "doc = Document(arquivo_word)\n",
    "\n",
    "# Adicionar uma tabela ao documento do Word\n",
    "tabela = doc.add_table(rows=1, cols=len(dados_excel.columns))\n",
    "\n",
    "# Adicionar cabeçalho na tabela\n",
    "hdr_cells = tabela.rows[0].cells\n",
    "for i, coluna in enumerate(dados_excel.columns):\n",
    "    hdr_cells[i].text = str(coluna)\n",
    "\n",
    "# Adicionar os dados do Excel na tabela do Word\n",
    "for indice, linha in dados_excel.iterrows():\n",
    "    row_cells = tabela.add_row().cells\n",
    "    for i, valor in enumerate(linha):\n",
    "        row_cells[i].text = str(valor)\n",
    "\n",
    "# Salvar o documento do Word com a nova tabela\n",
    "doc.save(arquivo_word)\n",
    "\n",
    "\n"
   ]
  },
  {
   "cell_type": "code",
   "execution_count": null,
   "metadata": {},
   "outputs": [],
   "source": [
    "import pandas as pd\n",
    "from openpyxl import load_workbook\n",
    "\n",
    "# Nome do arquivo Excel existente\n",
    "nome_arquivo_excel = 'filmeru.xlsx'\n",
    "\n",
    "# Carrega o arquivo Excel existente\n",
    "try:\n",
    "    book = load_workbook(nome_arquivo_excel)\n",
    "    writer = pd.ExcelWriter(nome_arquivo_excel, engine='openpyxl')\n",
    "    writer.book = book\n",
    "except FileNotFoundError:\n",
    "    writer = pd.ExcelWriter(nome_arquivo_excel, engine='openpyxl')\n",
    "\n",
    "# Restante do seu código de agrupamento e adição de planilhas...\n",
    "\n",
    "# Salva o arquivo Excel com as novas planilhas\n",
    "writer.save()\n",
    "writer.close()"
   ]
  }
 ],
 "metadata": {
  "kernelspec": {
   "display_name": "Python 3",
   "language": "python",
   "name": "python3"
  },
  "language_info": {
   "codemirror_mode": {
    "name": "ipython",
    "version": 3
   },
   "file_extension": ".py",
   "mimetype": "text/x-python",
   "name": "python",
   "nbconvert_exporter": "python",
   "pygments_lexer": "ipython3",
   "version": "3.11.6"
  }
 },
 "nbformat": 4,
 "nbformat_minor": 2
}
