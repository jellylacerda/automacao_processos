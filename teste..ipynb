

import pandas as pd 

key = pd.read_csv('keywords.csv')
cred = pd.read_csv('credits.csv')
link_smll = pd.read_csv('links_small.csv')
links = pd.read_csv('links.csv')
movies = pd.read_csv('movies_metadata.csv')
ratings_smll = pd.read_csv('ratings_small.csv')
ratings = pd.read_csv('ratings.csv')

print(key[10])